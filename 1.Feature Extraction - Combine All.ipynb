{
 "cells": [
  {
   "cell_type": "markdown",
   "metadata": {},
   "source": [
    "###author, forum, title, text, 여태까지 한 것들을 불러와서 하나로 합침"
   ]
  },
  {
   "cell_type": "code",
   "execution_count": 26,
   "metadata": {
    "collapsed": false,
    "scrolled": true
   },
   "outputs": [],
   "source": [
    "import pandas as pd\n",
    "import numpy as np\n",
    "import json\n",
    "import pickle\n",
    "\n",
    "num_author = 1000\n",
    "num_title = 1000\n",
    "num_text = 1000\n",
    "\n",
    "author_forum_p = pickle.load(open(\"author, forum_%d.p\" % num_author, \"rb\"))\n",
    "title_p = pickle.load(open(\"title_%d.p\" % num_title, \"rb\"))\n",
    "text_p = pickle.load(open(\"text_%d.p\" % num_text, \"rb\"))\n",
    "\n",
    "train = pd.concat([author_forum_p, title_p, text_p], axis = 1)\n",
    "#train = pd.concat([title_p, text_p], axis = 1)\n",
    "\n",
    "#train = author_forum_p"
   ]
  },
  {
   "cell_type": "markdown",
   "metadata": {},
   "source": [
    "### predictor, model 생성"
   ]
  },
  {
   "cell_type": "markdown",
   "metadata": {},
   "source": [
    "#### Random Forest"
   ]
  },
  {
   "cell_type": "code",
   "execution_count": 35,
   "metadata": {
    "collapsed": false
   },
   "outputs": [],
   "source": [
    "import xgboost as xgb\n",
    "from sklearn.ensemble import RandomForestClassifier\n",
    "\n",
    "label = 'istroll'\n",
    "pre = train.columns.drop([label, \"forumid\"])\n",
    "\n",
    "model = RandomForestClassifier(n_estimators=10, n_jobs=6)"
   ]
  },
  {
   "cell_type": "markdown",
   "metadata": {},
   "source": [
    "#### XGBoost"
   ]
  },
  {
   "cell_type": "code",
   "execution_count": null,
   "metadata": {
    "collapsed": true
   },
   "outputs": [],
   "source": [
    "from xgboost.sklearn import XGBClassifier\n",
    "\n",
    "# label = 'istroll'\n",
    "label = '3'\n",
    "labeled_train.columns = [str(x) for x in range(len(labeled_train.columns))]\n",
    "pre = labeled_train.columns.drop(['0', '1', '3'])\n",
    "# pre = ['author', 'forumid']\n",
    "\n",
    "model = XGBClassifier()"
   ]
  },
  {
   "cell_type": "markdown",
   "metadata": {},
   "source": [
    "###cross validation"
   ]
  },
  {
   "cell_type": "code",
   "execution_count": 36,
   "metadata": {
    "collapsed": false
   },
   "outputs": [
    {
     "name": "stdout",
     "output_type": "stream",
     "text": [
      "0.749510340022\n"
     ]
    }
   ],
   "source": [
    "from sklearn import cross_validation\n",
    "\n",
    "cv_value = 3\n",
    "\n",
    "scores = cross_validation.cross_val_score(model, train[pre], train[label], cv=cv_value, scoring=\"roc_auc\")\n",
    "cv_result = scores.mean()\n",
    "\n",
    "print(cv_result)"
   ]
  },
  {
   "cell_type": "markdown",
   "metadata": {},
   "source": [
    "##Result\n",
    "\n",
    "###RF\n",
    "####morphs\n",
    "   * forumid와 author, title, text를 bag of words로 변환 (feature : 1,000개) - 0.721\n",
    "   * forumid와 author, title을 bag of words로 변환 (feature : 1,000개) - 0.712577335639\n",
    "   * forumid와 author, text를 bag of words로 변환 (feature : 1,000개) - 0.721\n",
    "   \n",
    "####pos\n",
    "   * forumid와 author, title, text의 pos를 bag of words로 변환 (feature : 1,000개) - 0.728390543803\n",
    "   * forumid와 author, title, text의 pos를 LDA로 변환 (keep_n : 5,000, num_topics: 1,000) - 0.662467774802\n",
    "   * forumid와 author, title의 pos를 bag of words로 변환 (feature : 1,000개) - 0.704123734689\n",
    "   * forumid와 author, text의 pos를 bag of words로 변환 (feature : 1,000개) - 0.720707529009\n",
    "   * forumid와 author, title, text의 pos를 word2vec으로 변환 (feature : 300개) - 0.729942013224\n",
    "   * forumid와 author, text의 pos를 word2vec으로 변환 (feature : 300개) - 0.749510340022\n",
    "   \n",
    "###XGBoost\n",
    "####pos\n",
    "   * forumid와 author, title, text의 pos를 bag of words로 변환 (feature : 1,000개) - 0.662807681025"
   ]
  },
  {
   "cell_type": "code",
   "execution_count": null,
   "metadata": {
    "collapsed": true
   },
   "outputs": [],
   "source": []
  },
  {
   "cell_type": "code",
   "execution_count": null,
   "metadata": {
    "collapsed": true
   },
   "outputs": [],
   "source": []
  }
 ],
 "metadata": {
  "kernelspec": {
   "display_name": "Python 2",
   "language": "python",
   "name": "python2"
  },
  "language_info": {
   "codemirror_mode": {
    "name": "ipython",
    "version": 2
   },
   "file_extension": ".py",
   "mimetype": "text/x-python",
   "name": "python",
   "nbconvert_exporter": "python",
   "pygments_lexer": "ipython2",
   "version": "2.7.10"
  }
 },
 "nbformat": 4,
 "nbformat_minor": 0
}
